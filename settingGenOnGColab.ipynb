{
  "cells": [
    {
      "cell_type": "markdown",
      "metadata": {
        "id": "dJzHDqH9IS9H"
      },
      "source": [
        "# Press `Change runtime type` button on  `Runtime` to set to CPU or TPU\n",
        "\n",
        "# Run the codes following to build gen run environment\n"
      ]
    },
    {
      "cell_type": "code",
      "execution_count": null,
      "metadata": {
        "id": "WuT4y2bLuPzP"
      },
      "outputs": [],
      "source": [
        "!curl -sSL \"https://julialang-s3.julialang.org/bin/linux/x64/1.7/julia-1.7.2-linux-x86_64.tar.gz\" -o julia.tar.gz\n",
        "\n",
        "!tar -xzf julia.tar.gz -C /usr --strip-components 1\n",
        "!rm -rf julia.tar.gz*\n",
        "\n",
        "!julia -e 'import Pkg; Pkg.add(\"IJulia\")' > /dev/null 2>&1\n",
        "!julia -e 'using Pkg; Pkg.add(\"IJulia\")' > /dev/null 2>&1\n",
        "\n",
        "!julia -e 'import Pkg; Pkg.add(\"PyPlot\")' > /dev/null 2>&1\n",
        "!julia -e 'import Pkg; Pkg.add(\"CSV\")' > /dev/null 2>&1\n",
        "!julia -e 'import Pkg; Pkg.add(\"DataFrames\")' > /dev/null 2>&1\n",
        "!julia -e 'import Pkg; Pkg.add(\"Distributions\")' > /dev/null 2>&1\n",
        "!julia -e 'import Pkg; Pkg.add(\"Gen\")' > /dev/null 2>&1\n",
        "!julia -e 'import Pkg; Pkg.add(\"JLD2\")' > /dev/null 2>&1\n",
        "!julia -e 'import Pkg; Pkg.add(\"Luxor\")' > /dev/null 2>&1\n",
        "!julia -e 'import Pkg; Pkg.add(\"Plots\")' > /dev/null 2>&1\n",
        "!julia -e 'import Pkg; Pkg.add(\"StatsBase\")' > /dev/null 2>&1\n",
        "\n",
        "!julia -e 'using Pkg; Pkg.add(\"PyPlot\")' > /dev/null 2>&1\n",
        "!julia -e 'using Pkg; Pkg.add(\"CSV\")' > /dev/null 2>&1\n",
        "!julia -e 'using Pkg; Pkg.add(\"DataFrames\")' > /dev/null 2>&1\n",
        "!julia -e 'using Pkg; Pkg.add(\"Distributions\")' > /dev/null 2>&1\n",
        "!julia -e 'using Pkg; Pkg.add(\"Gen\")' > /dev/null 2>&1\n",
        "!julia -e 'using Pkg; Pkg.add(\"JLD2\")' > /dev/null 2>&1\n",
        "!julia -e 'using Pkg; Pkg.add(\"Luxor\")' > /dev/null 2>&1\n",
        "!julia -e 'using Pkg; Pkg.add(\"Plots\")' > /dev/null 2>&1\n",
        "!julia -e 'using Pkg; Pkg.add(\"StatsBase\")' > /dev/null 2>&1\n",
        "\n",
        "# !JULIA_PROJECT=. julia -e 'import Pkg; Pkg.instantiate()' > /dev/null 2>&1\n",
        "# !JULIA_PROJECT=. julia -e 'import Pkg; Pkg.build()' > /dev/null 2>&1"
      ]
    },
    {
      "cell_type": "markdown",
      "metadata": {
        "id": "4GNum_fFIYdf"
      },
      "source": [
        "# Currently, `Change runtime type` defaults to `julia`, but change it once to `python3` and again to `julia`\n"
      ]
    },
    {
      "cell_type": "code",
      "execution_count": null,
      "metadata": {
        "colab": {
          "base_uri": "https://localhost:8080/"
        },
        "id": "QHy3XFFWnFwb",
        "outputId": "a8f22404-3537-4975-f072-d9ecbaa6b94a"
      },
      "outputs": [
        {
          "name": "stdout",
          "output_type": "stream",
          "text": [
            "Julia Version 1.7.2\n",
            "Commit bf53498635 (2022-02-06 15:21 UTC)\n",
            "Platform Info:\n",
            "  OS: Linux (x86_64-pc-linux-gnu)\n",
            "  CPU: Intel(R) Xeon(R) CPU @ 2.30GHz\n",
            "  WORD_SIZE: 64\n",
            "  LIBM: libopenlibm\n",
            "  LLVM: libLLVM-12.0.1 (ORCJIT, haswell)\n"
          ]
        }
      ],
      "source": [
        "versioninfo()"
      ]
    },
    {
      "cell_type": "code",
      "execution_count": null,
      "metadata": {
        "id": "JIsdhRuo7SR1"
      },
      "outputs": [],
      "source": []
    }
  ],
  "metadata": {
    "accelerator": "TPU",
    "colab": {
      "machine_shape": "hm",
      "provenance": []
    },
    "kernelspec": {
      "display_name": "Julia 1.7.2",
      "name": "julia-1.7"
    }
  },
  "nbformat": 4,
  "nbformat_minor": 0
}
