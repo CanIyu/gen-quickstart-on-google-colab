{
  "nbformat": 4,
  "nbformat_minor": 0,
  "metadata": {
    "colab": {
      "provenance": [],
      "machine_shape": "hm"
    },
    "kernelspec": {
      "name": "julia-1.7",
      "display_name": "Julia 1.7.2"
    },
    "accelerator": "TPU"
  },
  "cells": [
    {
      "cell_type": "markdown",
      "source": [
        "# ランタイムのタイプを変更で CPU or TPU に設定する\n",
        "\n",
        "# 下記のコードを実行して実行環境を作成する\n",
        "\n"
      ],
      "metadata": {
        "id": "dJzHDqH9IS9H"
      }
    },
    {
      "cell_type": "code",
      "source": [
        "!curl -sSL \"https://julialang-s3.julialang.org/bin/linux/x64/1.7/julia-1.7.2-linux-x86_64.tar.gz\" -o julia.tar.gz\n",
        "\n",
        "!tar -xzf julia.tar.gz -C /usr --strip-components 1\n",
        "!rm -rf julia.tar.gz*\n",
        "\n",
        "!julia -e 'import Pkg; Pkg.add(\"IJulia\")' > /dev/null 2>&1\n",
        "!julia -e 'using Pkg; Pkg.add(\"IJulia\")' > /dev/null 2>&1\n",
        "\n",
        "!julia -e 'import Pkg; Pkg.add(\"PyPlot\")' > /dev/null 2>&1\n",
        "!julia -e 'import Pkg; Pkg.add(\"CSV\")' > /dev/null 2>&1\n",
        "!julia -e 'import Pkg; Pkg.add(\"DataFrames\")' > /dev/null 2>&1\n",
        "!julia -e 'import Pkg; Pkg.add(\"Distributions\")' > /dev/null 2>&1\n",
        "!julia -e 'import Pkg; Pkg.add(\"Gen\")' > /dev/null 2>&1\n",
        "!julia -e 'import Pkg; Pkg.add(\"JLD2\")' > /dev/null 2>&1\n",
        "!julia -e 'import Pkg; Pkg.add(\"Luxor\")' > /dev/null 2>&1\n",
        "!julia -e 'import Pkg; Pkg.add(\"Plots\")' > /dev/null 2>&1\n",
        "!julia -e 'import Pkg; Pkg.add(\"StatsBase\")' > /dev/null 2>&1\n",
        "\n",
        "!julia -e 'using Pkg; Pkg.add(\"PyPlot\")' > /dev/null 2>&1\n",
        "!julia -e 'using Pkg; Pkg.add(\"CSV\")' > /dev/null 2>&1\n",
        "!julia -e 'using Pkg; Pkg.add(\"DataFrames\")' > /dev/null 2>&1\n",
        "!julia -e 'using Pkg; Pkg.add(\"Distributions\")' > /dev/null 2>&1\n",
        "!julia -e 'using Pkg; Pkg.add(\"Gen\")' > /dev/null 2>&1\n",
        "!julia -e 'using Pkg; Pkg.add(\"JLD2\")' > /dev/null 2>&1\n",
        "!julia -e 'using Pkg; Pkg.add(\"Luxor\")' > /dev/null 2>&1\n",
        "!julia -e 'using Pkg; Pkg.add(\"Plots\")' > /dev/null 2>&1\n",
        "!julia -e 'using Pkg; Pkg.add(\"StatsBase\")' > /dev/null 2>&1\n",
        "\n",
        "# !JULIA_PROJECT=. julia -e 'import Pkg; Pkg.instantiate()' > /dev/null 2>&1\n",
        "# !JULIA_PROJECT=. julia -e 'import Pkg; Pkg.build()' > /dev/null 2>&1"
      ],
      "metadata": {
        "id": "WuT4y2bLuPzP"
      },
      "execution_count": null,
      "outputs": []
    },
    {
      "cell_type": "markdown",
      "source": [
        "# ランタイムのタイプを変更で既定値 julia を 一度 python3 に変更してから再度 julia に変更する\n"
      ],
      "metadata": {
        "id": "4GNum_fFIYdf"
      }
    },
    {
      "cell_type": "code",
      "metadata": {
        "colab": {
          "base_uri": "https://localhost:8080/"
        },
        "id": "QHy3XFFWnFwb",
        "outputId": "a8f22404-3537-4975-f072-d9ecbaa6b94a"
      },
      "source": [
        "versioninfo()"
      ],
      "execution_count": null,
      "outputs": [
        {
          "output_type": "stream",
          "name": "stdout",
          "text": [
            "Julia Version 1.7.2\n",
            "Commit bf53498635 (2022-02-06 15:21 UTC)\n",
            "Platform Info:\n",
            "  OS: Linux (x86_64-pc-linux-gnu)\n",
            "  CPU: Intel(R) Xeon(R) CPU @ 2.30GHz\n",
            "  WORD_SIZE: 64\n",
            "  LIBM: libopenlibm\n",
            "  LLVM: libLLVM-12.0.1 (ORCJIT, haswell)\n"
          ]
        }
      ]
    },
    {
      "cell_type": "code",
      "source": [],
      "metadata": {
        "id": "JIsdhRuo7SR1"
      },
      "execution_count": null,
      "outputs": []
    }
  ]
}